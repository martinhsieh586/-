{
 "cells": [
  {
   "cell_type": "markdown",
   "metadata": {},
   "source": [
    "### 引入套件"
   ]
  },
  {
   "cell_type": "code",
   "execution_count": 1,
   "metadata": {},
   "outputs": [],
   "source": [
    "from datetime import datetime\n",
    "import backtrader as bt\n",
    "import yfinance as yf\n",
    "import pandas as pd"
   ]
  },
  {
   "cell_type": "markdown",
   "metadata": {},
   "source": [
    "### 回測計算函式"
   ]
  },
  {
   "cell_type": "code",
   "execution_count": 2,
   "metadata": {},
   "outputs": [],
   "source": [
    "def printTradeAnalysis(analyzer):\n",
    "    '''\n",
    "    Function to print the Technical Analysis results in a nice format.\n",
    "    '''\n",
    "    #Get the results we are interested in\n",
    "    total_closed = ''\n",
    "    total_won =''\n",
    "    total_lost =''\n",
    "    win_streak = ''\n",
    "    lose_streak = ''\n",
    "    pnl_net =''\n",
    "    strike_rate =''\n",
    "    \n",
    "    if len(analyzer.total)>2:\n",
    "        total_closed = analyzer.total.closed\n",
    "        total_won = analyzer.won.total\n",
    "        total_lost = analyzer.lost.total\n",
    "        win_streak = analyzer.streak.won.longest\n",
    "        lose_streak = analyzer.streak.lost.longest\n",
    "        pnl_net = round(analyzer.pnl.net.total,2)\n",
    "    \n",
    "    if total_closed:\n",
    "        strike_rate=round((total_won / total_closed) * 100,2)\n",
    "    else:\n",
    "        strike_rate='沒有完整交易'\n",
    "    print(\"策略運作分析結果:\")\n",
    "    print(f'獲利累積次數 : {str(total_won)}')\n",
    "    print(f'損失累積次數 : {str(total_lost)}')\n",
    "    print(f'獲利損失次數比 : {str(strike_rate)}')\n",
    "    print(f'最高連續獲利交易次數 : {str(win_streak)}')\n",
    "    print(f'最高連續損失交易次數 : {str(lose_streak)}')\n",
    "    print(f'淨利結算 : {str(pnl_net)}')"
   ]
  },
  {
   "cell_type": "markdown",
   "metadata": {},
   "source": [
    "### 買賣股票策略函式"
   ]
  },
  {
   "cell_type": "code",
   "execution_count": 3,
   "metadata": {},
   "outputs": [],
   "source": [
    "class MACDStrategy(bt.Strategy):\n",
    "    params = (\n",
    "        # Standard MACD Parameters\n",
    "        ('macd1', 12),\n",
    "        ('macd2', 26),\n",
    "        ('macdsig', 9),\n",
    "    )\n",
    "\n",
    "    def __init__(self):\n",
    "        self.macd = bt.indicators.MACD(self.data,\n",
    "                                       period_me1=self.p.macd1,\n",
    "                                       period_me2=self.p.macd2,\n",
    "                                       period_signal=self.p.macdsig)\n",
    "\n",
    "        # Cross of macd.macd and macd.signal\n",
    "        self.mcross = bt.indicators.CrossOver(self.macd.macd, self.macd.signal)\n",
    "        self.order = None\n",
    "\n",
    "    def log(self, txt):\n",
    "        '''Logging function'''\n",
    "        dt = self.datas[0].datetime.date(0).isoformat()\n",
    "        print(f'{dt}, {txt}')\n",
    "\n",
    "    def notify_order(self, order):\n",
    "        if order.status in [order.Submitted, order.Accepted]:\n",
    "            # order already submitted/accepted - no action required\n",
    "            return\n",
    "\n",
    "        # report executed order\n",
    "        if order.status in [order.Completed]:\n",
    "            if order.isbuy():\n",
    "                self.log(f'買單執行 --- 買價: {order.executed.price:.2f}, 成本: {order.executed.value:.2f}, 手續費: {order.executed.comm:.2f}')\n",
    "                self.price = order.executed.price\n",
    "                self.comm = order.executed.comm\n",
    "            else:\n",
    "                self.log(f'賣單執行 --- 賣價: {order.executed.price:.2f}, 成本: {order.executed.value:.2f}, 手續費: {order.executed.comm:.2f}')\n",
    "\n",
    "        # report failed order\n",
    "        elif order.status in [order.Canceled, order.Margin, order.Rejected]:\n",
    "            self.log('交易失敗')\n",
    "\n",
    "        # set no pending order\n",
    "        self.order = None\n",
    "\n",
    "    def notify_trade(self, trade):\n",
    "        if not trade.isclosed:\n",
    "            return\n",
    "\n",
    "        self.log(f'運作結果 --- 獲利狀況: {trade.pnl:.2f}, 淨獲利: {trade.pnlcomm:.2f}')\n",
    "\n",
    "    def next(self):\n",
    "        # do nothing if an order is pending\n",
    "        if self.order:\n",
    "            return\n",
    "\n",
    "        # check if there is already a position\n",
    "        if not self.position:\n",
    "            if self.mcross[0] > 0.0: \n",
    "                self.log(f'開出買單 --- 當時市場價格: {self.data_close[0]:.2f}')\n",
    "                self.order = self.buy()\n",
    "\n",
    "        else:\n",
    "            # sell condition\n",
    "            if self.mcross[0] < 0.0:\n",
    "                self.log(f'開出賣單 --- 當時市場價格: {self.data_close[0]:.2f}')\n",
    "                self.order = self.sell()"
   ]
  },
  {
   "cell_type": "markdown",
   "metadata": {},
   "source": [
    "### 取得目標股票的歷史資料"
   ]
  },
  {
   "cell_type": "code",
   "execution_count": 4,
   "metadata": {},
   "outputs": [],
   "source": [
    "data= yf.download(  '2330.tw',              #股票代碼\n",
    "                    period = '2y',\n",
    "                    progress=False\n",
    "                 )\n",
    "data=bt.feeds.PandasData(dataname=pd.DataFrame({'open': data['Open'], \n",
    "                   'high': data['High'],\n",
    "                   'low': data['Low'],\n",
    "                   'close': data['Close'],\n",
    "                   'volume': data['Volume'],\n",
    "                  }))"
   ]
  },
  {
   "cell_type": "markdown",
   "metadata": {},
   "source": [
    "### 台股交易費用計算的函式"
   ]
  },
  {
   "cell_type": "code",
   "execution_count": 5,
   "metadata": {},
   "outputs": [],
   "source": [
    "class TWStockCommisionScheme(bt.CommInfoBase):\n",
    "    params = (\n",
    "        \n",
    "         ('stocklike', True),\n",
    "         ('commtype', bt.CommInfoBase.COMM_PERC),\n",
    "         ('percabs', True),\n",
    "         ('discount', 0.3),\n",
    "         ('tax',0.003),\n",
    "         ('lowestfee',20)\n",
    "        )\n",
    "\n",
    "    def _getcommission(self, size, price, pseudoexec):\n",
    "        if size>0:\n",
    "            return max(self.p.lowestfee,size * price * self.p.commission * self.p.discount)\n",
    "        else:\n",
    "            return (max(self.p.lowestfee,size * price * self.p.commission * self.p.discount)-size * price *self.p.tax)"
   ]
  },
  {
   "cell_type": "markdown",
   "metadata": {},
   "source": [
    "### 建立回測分析"
   ]
  },
  {
   "cell_type": "code",
   "execution_count": 6,
   "metadata": {},
   "outputs": [],
   "source": [
    "# create a Cerebro entity\n",
    "cerebro = bt.Cerebro()\n",
    "\n",
    "# set up the backtest\n",
    "cerebro.adddata(data)\n",
    "cerebro.addstrategy(MACDStrategy)\n",
    "cerebro.broker.setcash(1000.0)\n",
    "\n",
    "# commission 手續費 0.1425%\n",
    "# discount 可以拿到的手續費折數\n",
    "# tax=0.003 證券交易稅率\n",
    "comminfo = TWStockCommisionScheme(\n",
    "    commission=0.001425,  \n",
    "    discount=0.5,\n",
    "    tax=0.003,\n",
    "    lowestfee=1\n",
    ")\n",
    "\n",
    "cerebro.broker.addcommissioninfo(comminfo)"
   ]
  },
  {
   "cell_type": "markdown",
   "metadata": {},
   "source": [
    "### 開始回測"
   ]
  },
  {
   "cell_type": "code",
   "execution_count": 7,
   "metadata": {
    "scrolled": false
   },
   "outputs": [
    {
     "name": "stdout",
     "output_type": "stream",
     "text": [
      "Starting Portfolio Value: 1000.00\n",
      "2023-01-10, 開出買單 --- 當時市場價格: 486.00\n",
      "2023-01-11, 買單執行 --- 買價: 487.00, 成本: 487.00, 手續費: 1.00\n",
      "2023-02-15, 開出賣單 --- 當時市場價格: 525.00\n",
      "2023-02-16, 賣單執行 --- 賣價: 528.00, 成本: 487.00, 手續費: 2.58\n",
      "2023-02-16, 運作結果 --- 獲利狀況: 41.00, 淨獲利: 37.42\n",
      "2023-03-22, 開出買單 --- 當時市場價格: 533.00\n",
      "2023-03-23, 買單執行 --- 買價: 528.00, 成本: 528.00, 手續費: 1.00\n",
      "2023-04-11, 開出賣單 --- 當時市場價格: 524.00\n",
      "2023-04-12, 賣單執行 --- 賣價: 523.00, 成本: 528.00, 手續費: 2.57\n",
      "2023-04-12, 運作結果 --- 獲利狀況: -5.00, 淨獲利: -8.57\n",
      "2023-05-09, 開出買單 --- 當時市場價格: 510.00\n",
      "2023-05-10, 買單執行 --- 買價: 508.00, 成本: 508.00, 手續費: 1.00\n",
      "2023-06-21, 開出賣單 --- 當時市場價格: 581.00\n",
      "2023-06-26, 賣單執行 --- 賣價: 576.00, 成本: 508.00, 手續費: 2.73\n",
      "2023-06-26, 運作結果 --- 獲利狀況: 68.00, 淨獲利: 64.27\n",
      "2023-07-17, 開出買單 --- 當時市場價格: 591.00\n",
      "2023-07-18, 買單執行 --- 買價: 587.00, 成本: 587.00, 手續費: 1.00\n",
      "2023-07-18, 開出賣單 --- 當時市場價格: 581.00\n",
      "2023-07-19, 賣單執行 --- 賣價: 584.00, 成本: 587.00, 手續費: 2.75\n",
      "2023-07-19, 運作結果 --- 獲利狀況: -3.00, 淨獲利: -6.75\n",
      "2023-08-24, 開出買單 --- 當時市場價格: 564.00\n",
      "2023-08-25, 買單執行 --- 買價: 549.00, 成本: 549.00, 手續費: 1.00\n",
      "2023-09-08, 開出賣單 --- 當時市場價格: 539.00\n",
      "2023-09-11, 賣單執行 --- 賣價: 539.00, 成本: 549.00, 手續費: 2.62\n",
      "2023-09-11, 運作結果 --- 獲利狀況: -10.00, 淨獲利: -13.62\n",
      "2023-09-14, 開出買單 --- 當時市場價格: 550.00\n",
      "2023-09-15, 買單執行 --- 買價: 549.00, 成本: 549.00, 手續費: 1.00\n",
      "2023-09-20, 開出賣單 --- 當時市場價格: 535.00\n",
      "2023-09-21, 賣單執行 --- 賣價: 530.00, 成本: 549.00, 手續費: 2.59\n",
      "2023-09-21, 運作結果 --- 獲利狀況: -19.00, 淨獲利: -22.59\n",
      "2023-10-06, 開出買單 --- 當時市場價格: 532.00\n",
      "2023-10-11, 買單執行 --- 買價: 542.00, 成本: 542.00, 手續費: 1.00\n",
      "2023-10-27, 開出賣單 --- 當時市場價格: 533.00\n",
      "2023-10-30, 賣單執行 --- 賣價: 531.00, 成本: 542.00, 手續費: 2.59\n",
      "2023-10-30, 運作結果 --- 獲利狀況: -11.00, 淨獲利: -14.59\n",
      "2023-11-03, 開出買單 --- 當時市場價格: 549.00\n",
      "2023-11-06, 買單執行 --- 買價: 553.00, 成本: 553.00, 手續費: 1.00\n",
      "2023-11-27, 開出賣單 --- 當時市場價格: 568.00\n",
      "2023-11-28, 賣單執行 --- 賣價: 565.00, 成本: 553.00, 手續費: 2.70\n",
      "2023-11-28, 運作結果 --- 獲利狀況: 12.00, 淨獲利: 8.30\n",
      "2023-12-18, 開出買單 --- 當時市場價格: 585.00\n",
      "2023-12-19, 買單執行 --- 買價: 588.00, 成本: 588.00, 手續費: 1.00\n",
      "2023-12-21, 開出賣單 --- 當時市場價格: 577.00\n",
      "2023-12-22, 賣單執行 --- 賣價: 582.00, 成本: 588.00, 手續費: 2.75\n",
      "2023-12-22, 運作結果 --- 獲利狀況: -6.00, 淨獲利: -9.75\n",
      "2023-12-27, 開出買單 --- 當時市場價格: 592.00\n",
      "2023-12-28, 買單執行 --- 買價: 592.00, 成本: 592.00, 手續費: 1.00\n",
      "2024-01-03, 開出賣單 --- 當時市場價格: 578.00\n",
      "2024-01-04, 賣單執行 --- 賣價: 580.00, 成本: 592.00, 手續費: 2.74\n",
      "2024-01-04, 運作結果 --- 獲利狀況: -12.00, 淨獲利: -15.74\n",
      "2024-01-19, 開出買單 --- 當時市場價格: 626.00\n",
      "2024-01-22, 買單執行 --- 買價: 633.00, 成本: 633.00, 手續費: 1.00\n",
      "2024-03-19, 開出賣單 --- 當時市場價格: 762.00\n",
      "2024-03-20, 賣單執行 --- 賣價: 764.00, 成本: 633.00, 手續費: 3.29\n",
      "2024-03-20, 運作結果 --- 獲利狀況: 131.00, 淨獲利: 126.71\n",
      "2024-04-11, 開出買單 --- 當時市場價格: 820.00\n",
      "2024-04-12, 買單執行 --- 買價: 823.00, 成本: 823.00, 手續費: 1.00\n",
      "2024-04-15, 開出賣單 --- 當時市場價格: 806.00\n",
      "2024-04-16, 賣單執行 --- 賣價: 802.00, 成本: 823.00, 手續費: 3.41\n",
      "2024-04-16, 運作結果 --- 獲利狀況: -21.00, 淨獲利: -25.41\n",
      "2024-05-08, 開出買單 --- 當時市場價格: 802.00\n",
      "2024-05-09, 買單執行 --- 買價: 798.00, 成本: 798.00, 手續費: 1.00\n",
      "2024-05-30, 開出賣單 --- 當時市場價格: 838.00\n",
      "2024-05-31, 賣單執行 --- 賣價: 838.00, 成本: 798.00, 手續費: 3.51\n",
      "2024-05-31, 運作結果 --- 獲利狀況: 40.00, 淨獲利: 35.49\n",
      "2024-06-07, 開出買單 --- 當時市場價格: 879.00\n",
      "2024-06-11, 買單執行 --- 買價: 892.00, 成本: 892.00, 手續費: 1.00\n",
      "2024-07-02, 開出賣單 --- 當時市場價格: 960.00\n",
      "2024-07-03, 賣單執行 --- 賣價: 976.00, 成本: 892.00, 手續費: 3.93\n",
      "2024-07-03, 運作結果 --- 獲利狀況: 84.00, 淨獲利: 79.07\n",
      "2024-07-04, 開出買單 --- 當時市場價格: 1005.00\n",
      "2024-07-05, 買單執行 --- 買價: 1005.00, 成本: 1005.00, 手續費: 1.00\n",
      "2024-07-17, 開出賣單 --- 當時市場價格: 1030.00\n",
      "2024-07-18, 賣單執行 --- 賣價: 988.00, 成本: 1005.00, 手續費: 3.96\n",
      "2024-07-18, 運作結果 --- 獲利狀況: -17.00, 淨獲利: -21.96\n",
      "2024-08-14, 開出買單 --- 當時市場價格: 948.00\n",
      "2024-08-15, 買單執行 --- 買價: 945.00, 成本: 945.00, 手續費: 1.00\n",
      "2024-09-03, 開出賣單 --- 當時市場價格: 940.00\n",
      "2024-09-04, 賣單執行 --- 賣價: 894.00, 成本: 945.00, 手續費: 3.68\n",
      "2024-09-04, 運作結果 --- 獲利狀況: -51.00, 淨獲利: -55.68\n",
      "2024-09-13, 開出買單 --- 當時市場價格: 947.00\n",
      "2024-09-16, 買單執行 --- 買價: 952.00, 成本: 952.00, 手續費: 1.00\n",
      "Final Portfolio Value: 1268.60\n"
     ]
    }
   ],
   "source": [
    "# run backtest\n",
    "print(f'Starting Portfolio Value: {cerebro.broker.getvalue():.2f}')\n",
    "cerebro.run()\n",
    "print(f'Final Portfolio Value: {cerebro.broker.getvalue():.2f}')"
   ]
  },
  {
   "cell_type": "markdown",
   "metadata": {},
   "source": [
    "### 視覺化回測結果"
   ]
  },
  {
   "cell_type": "code",
   "execution_count": 10,
   "metadata": {},
   "outputs": [
    {
     "data": {
      "image/png": "[encoded data removed]",
      "text/plain": [
       "<Figure size 432x288 with 5 Axes>"
      ]
     },
     "metadata": {
      "needs_background": "light"
     },
     "output_type": "display_data"
    },
    {
     "data": {
      "text/plain": [
       "[[<Figure size 432x288 with 5 Axes>]]"
      ]
     },
     "execution_count": 10,
     "metadata": {},
     "output_type": "execute_result"
    }
   ],
   "source": [
    "import matplotlib.pyplot as plt\n",
    "%matplotlib inline\n",
    "\n",
    "# plot results\n",
    "cerebro.plot(iplot=False, volume=False)"
   ]
  },
  {
   "cell_type": "markdown",
   "metadata": {},
   "source": [
    "### 使用 Analyzer 來查看策略細節"
   ]
  },
  {
   "cell_type": "code",
   "execution_count": 9,
   "metadata": {
    "scrolled": false
   },
   "outputs": [
    {
     "name": "stdout",
     "output_type": "stream",
     "text": [
      "2023-01-10, 開出買單 --- 當時市場價格: 486.00\n",
      "2023-01-11, 買單執行 --- 買價: 487.00, 成本: 487.00, 手續費: 1.00\n",
      "2023-02-15, 開出賣單 --- 當時市場價格: 525.00\n",
      "2023-02-16, 賣單執行 --- 賣價: 528.00, 成本: 487.00, 手續費: 2.58\n",
      "2023-02-16, 運作結果 --- 獲利狀況: 41.00, 淨獲利: 37.42\n",
      "2023-03-22, 開出買單 --- 當時市場價格: 533.00\n",
      "2023-03-23, 買單執行 --- 買價: 528.00, 成本: 528.00, 手續費: 1.00\n",
      "2023-04-11, 開出賣單 --- 當時市場價格: 524.00\n",
      "2023-04-12, 賣單執行 --- 賣價: 523.00, 成本: 528.00, 手續費: 2.57\n",
      "2023-04-12, 運作結果 --- 獲利狀況: -5.00, 淨獲利: -8.57\n",
      "2023-05-09, 開出買單 --- 當時市場價格: 510.00\n",
      "2023-05-10, 買單執行 --- 買價: 508.00, 成本: 508.00, 手續費: 1.00\n",
      "2023-06-21, 開出賣單 --- 當時市場價格: 581.00\n",
      "2023-06-26, 賣單執行 --- 賣價: 576.00, 成本: 508.00, 手續費: 2.73\n",
      "2023-06-26, 運作結果 --- 獲利狀況: 68.00, 淨獲利: 64.27\n",
      "2023-07-17, 開出買單 --- 當時市場價格: 591.00\n",
      "2023-07-18, 買單執行 --- 買價: 587.00, 成本: 587.00, 手續費: 1.00\n",
      "2023-07-18, 開出賣單 --- 當時市場價格: 581.00\n",
      "2023-07-19, 賣單執行 --- 賣價: 584.00, 成本: 587.00, 手續費: 2.75\n",
      "2023-07-19, 運作結果 --- 獲利狀況: -3.00, 淨獲利: -6.75\n",
      "2023-08-24, 開出買單 --- 當時市場價格: 564.00\n",
      "2023-08-25, 買單執行 --- 買價: 549.00, 成本: 549.00, 手續費: 1.00\n",
      "2023-09-08, 開出賣單 --- 當時市場價格: 539.00\n",
      "2023-09-11, 賣單執行 --- 賣價: 539.00, 成本: 549.00, 手續費: 2.62\n",
      "2023-09-11, 運作結果 --- 獲利狀況: -10.00, 淨獲利: -13.62\n",
      "2023-09-14, 開出買單 --- 當時市場價格: 550.00\n",
      "2023-09-15, 買單執行 --- 買價: 549.00, 成本: 549.00, 手續費: 1.00\n",
      "2023-09-20, 開出賣單 --- 當時市場價格: 535.00\n",
      "2023-09-21, 賣單執行 --- 賣價: 530.00, 成本: 549.00, 手續費: 2.59\n",
      "2023-09-21, 運作結果 --- 獲利狀況: -19.00, 淨獲利: -22.59\n",
      "2023-10-06, 開出買單 --- 當時市場價格: 532.00\n",
      "2023-10-11, 買單執行 --- 買價: 542.00, 成本: 542.00, 手續費: 1.00\n",
      "2023-10-27, 開出賣單 --- 當時市場價格: 533.00\n",
      "2023-10-30, 賣單執行 --- 賣價: 531.00, 成本: 542.00, 手續費: 2.59\n",
      "2023-10-30, 運作結果 --- 獲利狀況: -11.00, 淨獲利: -14.59\n",
      "2023-11-03, 開出買單 --- 當時市場價格: 549.00\n",
      "2023-11-06, 買單執行 --- 買價: 553.00, 成本: 553.00, 手續費: 1.00\n",
      "2023-11-27, 開出賣單 --- 當時市場價格: 568.00\n",
      "2023-11-28, 賣單執行 --- 賣價: 565.00, 成本: 553.00, 手續費: 2.70\n",
      "2023-11-28, 運作結果 --- 獲利狀況: 12.00, 淨獲利: 8.30\n",
      "2023-12-18, 開出買單 --- 當時市場價格: 585.00\n",
      "2023-12-19, 買單執行 --- 買價: 588.00, 成本: 588.00, 手續費: 1.00\n",
      "2023-12-21, 開出賣單 --- 當時市場價格: 577.00\n",
      "2023-12-22, 賣單執行 --- 賣價: 582.00, 成本: 588.00, 手續費: 2.75\n",
      "2023-12-22, 運作結果 --- 獲利狀況: -6.00, 淨獲利: -9.75\n",
      "2023-12-27, 開出買單 --- 當時市場價格: 592.00\n",
      "2023-12-28, 買單執行 --- 買價: 592.00, 成本: 592.00, 手續費: 1.00\n",
      "2024-01-03, 開出賣單 --- 當時市場價格: 578.00\n",
      "2024-01-04, 賣單執行 --- 賣價: 580.00, 成本: 592.00, 手續費: 2.74\n",
      "2024-01-04, 運作結果 --- 獲利狀況: -12.00, 淨獲利: -15.74\n",
      "2024-01-19, 開出買單 --- 當時市場價格: 626.00\n",
      "2024-01-22, 買單執行 --- 買價: 633.00, 成本: 633.00, 手續費: 1.00\n",
      "2024-03-19, 開出賣單 --- 當時市場價格: 762.00\n",
      "2024-03-20, 賣單執行 --- 賣價: 764.00, 成本: 633.00, 手續費: 3.29\n",
      "2024-03-20, 運作結果 --- 獲利狀況: 131.00, 淨獲利: 126.71\n",
      "2024-04-11, 開出買單 --- 當時市場價格: 820.00\n",
      "2024-04-12, 買單執行 --- 買價: 823.00, 成本: 823.00, 手續費: 1.00\n",
      "2024-04-15, 開出賣單 --- 當時市場價格: 806.00\n",
      "2024-04-16, 賣單執行 --- 賣價: 802.00, 成本: 823.00, 手續費: 3.41\n",
      "2024-04-16, 運作結果 --- 獲利狀況: -21.00, 淨獲利: -25.41\n",
      "2024-05-08, 開出買單 --- 當時市場價格: 802.00\n",
      "2024-05-09, 買單執行 --- 買價: 798.00, 成本: 798.00, 手續費: 1.00\n",
      "2024-05-30, 開出賣單 --- 當時市場價格: 838.00\n",
      "2024-05-31, 賣單執行 --- 賣價: 838.00, 成本: 798.00, 手續費: 3.51\n",
      "2024-05-31, 運作結果 --- 獲利狀況: 40.00, 淨獲利: 35.49\n",
      "2024-06-07, 開出買單 --- 當時市場價格: 879.00\n",
      "2024-06-11, 買單執行 --- 買價: 892.00, 成本: 892.00, 手續費: 1.00\n",
      "2024-07-02, 開出賣單 --- 當時市場價格: 960.00\n",
      "2024-07-03, 賣單執行 --- 賣價: 976.00, 成本: 892.00, 手續費: 3.93\n",
      "2024-07-03, 運作結果 --- 獲利狀況: 84.00, 淨獲利: 79.07\n",
      "2024-07-04, 開出買單 --- 當時市場價格: 1005.00\n",
      "2024-07-05, 買單執行 --- 買價: 1005.00, 成本: 1005.00, 手續費: 1.00\n",
      "2024-07-17, 開出賣單 --- 當時市場價格: 1030.00\n",
      "2024-07-18, 賣單執行 --- 賣價: 988.00, 成本: 1005.00, 手續費: 3.96\n",
      "2024-07-18, 運作結果 --- 獲利狀況: -17.00, 淨獲利: -21.96\n",
      "2024-08-14, 開出買單 --- 當時市場價格: 948.00\n",
      "2024-08-15, 買單執行 --- 買價: 945.00, 成本: 945.00, 手續費: 1.00\n",
      "2024-09-03, 開出賣單 --- 當時市場價格: 940.00\n",
      "2024-09-04, 賣單執行 --- 賣價: 894.00, 成本: 945.00, 手續費: 3.68\n",
      "2024-09-04, 運作結果 --- 獲利狀況: -51.00, 淨獲利: -55.68\n",
      "2024-09-13, 開出買單 --- 當時市場價格: 947.00\n",
      "2024-09-16, 買單執行 --- 買價: 952.00, 成本: 952.00, 手續費: 1.00\n",
      "策略運作分析結果:\n",
      "獲利累積次數 : 6\n",
      "損失累積次數 : 10\n",
      "獲利損失次數比 : 37.5\n",
      "最高連續獲利交易次數 : 2\n",
      "最高連續損失交易次數 : 4\n",
      "淨利結算 : 156.6\n"
     ]
    }
   ],
   "source": [
    "cerebro.addanalyzer(bt.analyzers.TradeAnalyzer, _name=\"ta\")\n",
    "cerebro.addanalyzer(bt.analyzers.SQN, _name=\"sqn\")\n",
    "strategies = cerebro.run()\n",
    "firstStrat = strategies[0]\n",
    "\n",
    "# print the analyzers\n",
    "printTradeAnalysis(firstStrat.analyzers.ta.get_analysis())"
   ]
  }
 ],
 "metadata": {
  "kernelspec": {
   "display_name": "base",
   "language": "python",
   "name": "python3"
  },
  "language_info": {
   "codemirror_mode": {
    "name": "ipython",
    "version": 3
   },
   "file_extension": ".py",
   "mimetype": "text/x-python",
   "name": "python",
   "nbconvert_exporter": "python",
   "pygments_lexer": "ipython3",
   "version": "3.9.12"
  }
 },
 "nbformat": 4,
 "nbformat_minor": 4
}
