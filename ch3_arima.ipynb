{
 "cells": [
  {
   "cell_type": "code",
   "execution_count": 1,
   "metadata": {},
   "outputs": [],
   "source": [
    "import pandas as pd\n",
    "import requests, json\n",
    "import pandas as pd\n",
    "import matplotlib.pyplot as plt\n",
    "import matplotlib as mpl\n",
    "from datetime import datetime, timedelta"
   ]
  },
  {
   "cell_type": "markdown",
   "metadata": {},
   "source": [
    "### 自動生成 24 個月份的列表，從 2021 年 1 月開始"
   ]
  },
  {
   "cell_type": "code",
   "execution_count": 2,
   "metadata": {},
   "outputs": [],
   "source": [
    "def generate_date_list(start_date, months):\n",
    "    date_list = []\n",
    "    start = datetime.strptime(start_date, \"%Y%m%d\")\n",
    "    for i in range(months):\n",
    "        year_month = start + timedelta(days=30 * i)  # 每次增加一個月\n",
    "        date_str = year_month.strftime(\"%Y%m01\")  # 每個月的第一天\n",
    "        date_list.append(date_str)\n",
    "    return date_list"
   ]
  },
  {
   "cell_type": "markdown",
   "metadata": {},
   "source": [
    "### 下載證交所資料"
   ]
  },
  {
   "cell_type": "code",
   "execution_count": 3,
   "metadata": {},
   "outputs": [],
   "source": [
    "def fetch_data(date, stock_no):\n",
    "    url = f'https://www.twse.com.tw/exchangeReport/STOCK_DAY?response=json&date={date}&stockNo={stock_no}'\n",
    "    html = requests.get(url,verify=False)\n",
    "    content = json.loads(html.text)\n",
    "    stock_data = content['data']\n",
    "    col_name = content['fields']\n",
    "    df = pd.DataFrame(data=stock_data, columns=col_name)\n",
    "    return df"
   ]
  },
  {
   "cell_type": "markdown",
   "metadata": {},
   "source": [
    "### 將民國年轉換為西元年"
   ]
  },
  {
   "cell_type": "code",
   "execution_count": 4,
   "metadata": {},
   "outputs": [],
   "source": [
    "def convert_minguo_to_ad(date_str):\n",
    "    year, month, day = date_str.split('/')\n",
    "    year = str(int(year) + 1911)\n",
    "    return f'{year}-{month}-{day}'"
   ]
  },
  {
   "cell_type": "markdown",
   "metadata": {},
   "source": [
    "### 爬取證交所 2330.tw 股價"
   ]
  },
  {
   "cell_type": "code",
   "execution_count": 5,
   "metadata": {},
   "outputs": [
    {
     "name": "stderr",
     "output_type": "stream",
     "text": [
      "c:\\Users\\marti\\anaconda3\\lib\\site-packages\\urllib3\\connectionpool.py:1103: InsecureRequestWarning: Unverified HTTPS request is being made to host 'www.twse.com.tw'. Adding certificate verification is strongly advised. See: https://urllib3.readthedocs.io/en/latest/advanced-usage.html#tls-warnings\n",
      "  warnings.warn(\n",
      "c:\\Users\\marti\\anaconda3\\lib\\site-packages\\urllib3\\connectionpool.py:1103: InsecureRequestWarning: Unverified HTTPS request is being made to host 'www.twse.com.tw'. Adding certificate verification is strongly advised. See: https://urllib3.readthedocs.io/en/latest/advanced-usage.html#tls-warnings\n",
      "  warnings.warn(\n",
      "c:\\Users\\marti\\anaconda3\\lib\\site-packages\\urllib3\\connectionpool.py:1103: InsecureRequestWarning: Unverified HTTPS request is being made to host 'www.twse.com.tw'. Adding certificate verification is strongly advised. See: https://urllib3.readthedocs.io/en/latest/advanced-usage.html#tls-warnings\n",
      "  warnings.warn(\n",
      "c:\\Users\\marti\\anaconda3\\lib\\site-packages\\urllib3\\connectionpool.py:1103: InsecureRequestWarning: Unverified HTTPS request is being made to host 'www.twse.com.tw'. Adding certificate verification is strongly advised. See: https://urllib3.readthedocs.io/en/latest/advanced-usage.html#tls-warnings\n",
      "  warnings.warn(\n",
      "c:\\Users\\marti\\anaconda3\\lib\\site-packages\\urllib3\\connectionpool.py:1103: InsecureRequestWarning: Unverified HTTPS request is being made to host 'www.twse.com.tw'. Adding certificate verification is strongly advised. See: https://urllib3.readthedocs.io/en/latest/advanced-usage.html#tls-warnings\n",
      "  warnings.warn(\n",
      "c:\\Users\\marti\\anaconda3\\lib\\site-packages\\urllib3\\connectionpool.py:1103: InsecureRequestWarning: Unverified HTTPS request is being made to host 'www.twse.com.tw'. Adding certificate verification is strongly advised. See: https://urllib3.readthedocs.io/en/latest/advanced-usage.html#tls-warnings\n",
      "  warnings.warn(\n",
      "c:\\Users\\marti\\anaconda3\\lib\\site-packages\\urllib3\\connectionpool.py:1103: InsecureRequestWarning: Unverified HTTPS request is being made to host 'www.twse.com.tw'. Adding certificate verification is strongly advised. See: https://urllib3.readthedocs.io/en/latest/advanced-usage.html#tls-warnings\n",
      "  warnings.warn(\n",
      "c:\\Users\\marti\\anaconda3\\lib\\site-packages\\urllib3\\connectionpool.py:1103: InsecureRequestWarning: Unverified HTTPS request is being made to host 'www.twse.com.tw'. Adding certificate verification is strongly advised. See: https://urllib3.readthedocs.io/en/latest/advanced-usage.html#tls-warnings\n",
      "  warnings.warn(\n",
      "c:\\Users\\marti\\anaconda3\\lib\\site-packages\\urllib3\\connectionpool.py:1103: InsecureRequestWarning: Unverified HTTPS request is being made to host 'www.twse.com.tw'. Adding certificate verification is strongly advised. See: https://urllib3.readthedocs.io/en/latest/advanced-usage.html#tls-warnings\n",
      "  warnings.warn(\n",
      "c:\\Users\\marti\\anaconda3\\lib\\site-packages\\urllib3\\connectionpool.py:1103: InsecureRequestWarning: Unverified HTTPS request is being made to host 'www.twse.com.tw'. Adding certificate verification is strongly advised. See: https://urllib3.readthedocs.io/en/latest/advanced-usage.html#tls-warnings\n",
      "  warnings.warn(\n",
      "c:\\Users\\marti\\anaconda3\\lib\\site-packages\\urllib3\\connectionpool.py:1103: InsecureRequestWarning: Unverified HTTPS request is being made to host 'www.twse.com.tw'. Adding certificate verification is strongly advised. See: https://urllib3.readthedocs.io/en/latest/advanced-usage.html#tls-warnings\n",
      "  warnings.warn(\n",
      "c:\\Users\\marti\\anaconda3\\lib\\site-packages\\urllib3\\connectionpool.py:1103: InsecureRequestWarning: Unverified HTTPS request is being made to host 'www.twse.com.tw'. Adding certificate verification is strongly advised. See: https://urllib3.readthedocs.io/en/latest/advanced-usage.html#tls-warnings\n",
      "  warnings.warn(\n",
      "c:\\Users\\marti\\anaconda3\\lib\\site-packages\\urllib3\\connectionpool.py:1103: InsecureRequestWarning: Unverified HTTPS request is being made to host 'www.twse.com.tw'. Adding certificate verification is strongly advised. See: https://urllib3.readthedocs.io/en/latest/advanced-usage.html#tls-warnings\n",
      "  warnings.warn(\n",
      "c:\\Users\\marti\\anaconda3\\lib\\site-packages\\urllib3\\connectionpool.py:1103: InsecureRequestWarning: Unverified HTTPS request is being made to host 'www.twse.com.tw'. Adding certificate verification is strongly advised. See: https://urllib3.readthedocs.io/en/latest/advanced-usage.html#tls-warnings\n",
      "  warnings.warn(\n",
      "c:\\Users\\marti\\anaconda3\\lib\\site-packages\\urllib3\\connectionpool.py:1103: InsecureRequestWarning: Unverified HTTPS request is being made to host 'www.twse.com.tw'. Adding certificate verification is strongly advised. See: https://urllib3.readthedocs.io/en/latest/advanced-usage.html#tls-warnings\n",
      "  warnings.warn(\n",
      "c:\\Users\\marti\\anaconda3\\lib\\site-packages\\urllib3\\connectionpool.py:1103: InsecureRequestWarning: Unverified HTTPS request is being made to host 'www.twse.com.tw'. Adding certificate verification is strongly advised. See: https://urllib3.readthedocs.io/en/latest/advanced-usage.html#tls-warnings\n",
      "  warnings.warn(\n",
      "c:\\Users\\marti\\anaconda3\\lib\\site-packages\\urllib3\\connectionpool.py:1103: InsecureRequestWarning: Unverified HTTPS request is being made to host 'www.twse.com.tw'. Adding certificate verification is strongly advised. See: https://urllib3.readthedocs.io/en/latest/advanced-usage.html#tls-warnings\n",
      "  warnings.warn(\n",
      "c:\\Users\\marti\\anaconda3\\lib\\site-packages\\urllib3\\connectionpool.py:1103: InsecureRequestWarning: Unverified HTTPS request is being made to host 'www.twse.com.tw'. Adding certificate verification is strongly advised. See: https://urllib3.readthedocs.io/en/latest/advanced-usage.html#tls-warnings\n",
      "  warnings.warn(\n",
      "c:\\Users\\marti\\anaconda3\\lib\\site-packages\\urllib3\\connectionpool.py:1103: InsecureRequestWarning: Unverified HTTPS request is being made to host 'www.twse.com.tw'. Adding certificate verification is strongly advised. See: https://urllib3.readthedocs.io/en/latest/advanced-usage.html#tls-warnings\n",
      "  warnings.warn(\n",
      "c:\\Users\\marti\\anaconda3\\lib\\site-packages\\urllib3\\connectionpool.py:1103: InsecureRequestWarning: Unverified HTTPS request is being made to host 'www.twse.com.tw'. Adding certificate verification is strongly advised. See: https://urllib3.readthedocs.io/en/latest/advanced-usage.html#tls-warnings\n",
      "  warnings.warn(\n",
      "c:\\Users\\marti\\anaconda3\\lib\\site-packages\\urllib3\\connectionpool.py:1103: InsecureRequestWarning: Unverified HTTPS request is being made to host 'www.twse.com.tw'. Adding certificate verification is strongly advised. See: https://urllib3.readthedocs.io/en/latest/advanced-usage.html#tls-warnings\n",
      "  warnings.warn(\n",
      "c:\\Users\\marti\\anaconda3\\lib\\site-packages\\urllib3\\connectionpool.py:1103: InsecureRequestWarning: Unverified HTTPS request is being made to host 'www.twse.com.tw'. Adding certificate verification is strongly advised. See: https://urllib3.readthedocs.io/en/latest/advanced-usage.html#tls-warnings\n",
      "  warnings.warn(\n",
      "c:\\Users\\marti\\anaconda3\\lib\\site-packages\\urllib3\\connectionpool.py:1103: InsecureRequestWarning: Unverified HTTPS request is being made to host 'www.twse.com.tw'. Adding certificate verification is strongly advised. See: https://urllib3.readthedocs.io/en/latest/advanced-usage.html#tls-warnings\n",
      "  warnings.warn(\n",
      "c:\\Users\\marti\\anaconda3\\lib\\site-packages\\urllib3\\connectionpool.py:1103: InsecureRequestWarning: Unverified HTTPS request is being made to host 'www.twse.com.tw'. Adding certificate verification is strongly advised. See: https://urllib3.readthedocs.io/en/latest/advanced-usage.html#tls-warnings\n",
      "  warnings.warn(\n",
      "c:\\Users\\marti\\anaconda3\\lib\\site-packages\\urllib3\\connectionpool.py:1103: InsecureRequestWarning: Unverified HTTPS request is being made to host 'www.twse.com.tw'. Adding certificate verification is strongly advised. See: https://urllib3.readthedocs.io/en/latest/advanced-usage.html#tls-warnings\n",
      "  warnings.warn(\n",
      "c:\\Users\\marti\\anaconda3\\lib\\site-packages\\urllib3\\connectionpool.py:1103: InsecureRequestWarning: Unverified HTTPS request is being made to host 'www.twse.com.tw'. Adding certificate verification is strongly advised. See: https://urllib3.readthedocs.io/en/latest/advanced-usage.html#tls-warnings\n",
      "  warnings.warn(\n",
      "c:\\Users\\marti\\anaconda3\\lib\\site-packages\\urllib3\\connectionpool.py:1103: InsecureRequestWarning: Unverified HTTPS request is being made to host 'www.twse.com.tw'. Adding certificate verification is strongly advised. See: https://urllib3.readthedocs.io/en/latest/advanced-usage.html#tls-warnings\n",
      "  warnings.warn(\n",
      "c:\\Users\\marti\\anaconda3\\lib\\site-packages\\urllib3\\connectionpool.py:1103: InsecureRequestWarning: Unverified HTTPS request is being made to host 'www.twse.com.tw'. Adding certificate verification is strongly advised. See: https://urllib3.readthedocs.io/en/latest/advanced-usage.html#tls-warnings\n",
      "  warnings.warn(\n",
      "c:\\Users\\marti\\anaconda3\\lib\\site-packages\\urllib3\\connectionpool.py:1103: InsecureRequestWarning: Unverified HTTPS request is being made to host 'www.twse.com.tw'. Adding certificate verification is strongly advised. See: https://urllib3.readthedocs.io/en/latest/advanced-usage.html#tls-warnings\n",
      "  warnings.warn(\n",
      "c:\\Users\\marti\\anaconda3\\lib\\site-packages\\urllib3\\connectionpool.py:1103: InsecureRequestWarning: Unverified HTTPS request is being made to host 'www.twse.com.tw'. Adding certificate verification is strongly advised. See: https://urllib3.readthedocs.io/en/latest/advanced-usage.html#tls-warnings\n",
      "  warnings.warn(\n",
      "c:\\Users\\marti\\anaconda3\\lib\\site-packages\\urllib3\\connectionpool.py:1103: InsecureRequestWarning: Unverified HTTPS request is being made to host 'www.twse.com.tw'. Adding certificate verification is strongly advised. See: https://urllib3.readthedocs.io/en/latest/advanced-usage.html#tls-warnings\n",
      "  warnings.warn(\n",
      "c:\\Users\\marti\\anaconda3\\lib\\site-packages\\urllib3\\connectionpool.py:1103: InsecureRequestWarning: Unverified HTTPS request is being made to host 'www.twse.com.tw'. Adding certificate verification is strongly advised. See: https://urllib3.readthedocs.io/en/latest/advanced-usage.html#tls-warnings\n",
      "  warnings.warn(\n",
      "c:\\Users\\marti\\anaconda3\\lib\\site-packages\\urllib3\\connectionpool.py:1103: InsecureRequestWarning: Unverified HTTPS request is being made to host 'www.twse.com.tw'. Adding certificate verification is strongly advised. See: https://urllib3.readthedocs.io/en/latest/advanced-usage.html#tls-warnings\n",
      "  warnings.warn(\n",
      "c:\\Users\\marti\\anaconda3\\lib\\site-packages\\urllib3\\connectionpool.py:1103: InsecureRequestWarning: Unverified HTTPS request is being made to host 'www.twse.com.tw'. Adding certificate verification is strongly advised. See: https://urllib3.readthedocs.io/en/latest/advanced-usage.html#tls-warnings\n",
      "  warnings.warn(\n",
      "c:\\Users\\marti\\anaconda3\\lib\\site-packages\\urllib3\\connectionpool.py:1103: InsecureRequestWarning: Unverified HTTPS request is being made to host 'www.twse.com.tw'. Adding certificate verification is strongly advised. See: https://urllib3.readthedocs.io/en/latest/advanced-usage.html#tls-warnings\n",
      "  warnings.warn(\n",
      "c:\\Users\\marti\\anaconda3\\lib\\site-packages\\urllib3\\connectionpool.py:1103: InsecureRequestWarning: Unverified HTTPS request is being made to host 'www.twse.com.tw'. Adding certificate verification is strongly advised. See: https://urllib3.readthedocs.io/en/latest/advanced-usage.html#tls-warnings\n",
      "  warnings.warn(\n"
     ]
    },
    {
     "data": {
      "text/html": [
       "<div>\n",
       "<style scoped>\n",
       "    .dataframe tbody tr th:only-of-type {\n",
       "        vertical-align: middle;\n",
       "    }\n",
       "\n",
       "    .dataframe tbody tr th {\n",
       "        vertical-align: top;\n",
       "    }\n",
       "\n",
       "    .dataframe thead th {\n",
       "        text-align: right;\n",
       "    }\n",
       "</style>\n",
       "<table border=\"1\" class=\"dataframe\">\n",
       "  <thead>\n",
       "    <tr style=\"text-align: right;\">\n",
       "      <th></th>\n",
       "      <th>成交股數</th>\n",
       "      <th>成交金額</th>\n",
       "      <th>開盤價</th>\n",
       "      <th>最高價</th>\n",
       "      <th>最低價</th>\n",
       "      <th>收盤價</th>\n",
       "      <th>漲跌價差</th>\n",
       "      <th>成交筆數</th>\n",
       "    </tr>\n",
       "    <tr>\n",
       "      <th>日期</th>\n",
       "      <th></th>\n",
       "      <th></th>\n",
       "      <th></th>\n",
       "      <th></th>\n",
       "      <th></th>\n",
       "      <th></th>\n",
       "      <th></th>\n",
       "      <th></th>\n",
       "    </tr>\n",
       "  </thead>\n",
       "  <tbody>\n",
       "    <tr>\n",
       "      <th>2024-03-25</th>\n",
       "      <td>21,223,414</td>\n",
       "      <td>16,612,693,369</td>\n",
       "      <td>783.00</td>\n",
       "      <td>788.00</td>\n",
       "      <td>779.00</td>\n",
       "      <td>780.00</td>\n",
       "      <td>-5.00</td>\n",
       "      <td>24,794</td>\n",
       "    </tr>\n",
       "    <tr>\n",
       "      <th>2024-03-26</th>\n",
       "      <td>43,103,294</td>\n",
       "      <td>33,847,261,033</td>\n",
       "      <td>788.00</td>\n",
       "      <td>792.00</td>\n",
       "      <td>776.00</td>\n",
       "      <td>782.00</td>\n",
       "      <td>+2.00</td>\n",
       "      <td>35,046</td>\n",
       "    </tr>\n",
       "    <tr>\n",
       "      <th>2024-03-27</th>\n",
       "      <td>19,732,209</td>\n",
       "      <td>15,418,346,943</td>\n",
       "      <td>785.00</td>\n",
       "      <td>785.00</td>\n",
       "      <td>779.00</td>\n",
       "      <td>779.00</td>\n",
       "      <td>-3.00</td>\n",
       "      <td>21,006</td>\n",
       "    </tr>\n",
       "    <tr>\n",
       "      <th>2024-03-28</th>\n",
       "      <td>28,393,398</td>\n",
       "      <td>21,889,883,699</td>\n",
       "      <td>774.00</td>\n",
       "      <td>776.00</td>\n",
       "      <td>768.00</td>\n",
       "      <td>769.00</td>\n",
       "      <td>-10.00</td>\n",
       "      <td>39,848</td>\n",
       "    </tr>\n",
       "    <tr>\n",
       "      <th>2024-03-29</th>\n",
       "      <td>20,212,820</td>\n",
       "      <td>15,682,908,766</td>\n",
       "      <td>769.00</td>\n",
       "      <td>781.00</td>\n",
       "      <td>768.00</td>\n",
       "      <td>779.00</td>\n",
       "      <td>+10.00</td>\n",
       "      <td>18,110</td>\n",
       "    </tr>\n",
       "  </tbody>\n",
       "</table>\n",
       "</div>"
      ],
      "text/plain": [
       "                  成交股數            成交金額     開盤價     最高價     最低價     收盤價  \\\n",
       "日期                                                                       \n",
       "2024-03-25  21,223,414  16,612,693,369  783.00  788.00  779.00  780.00   \n",
       "2024-03-26  43,103,294  33,847,261,033  788.00  792.00  776.00  782.00   \n",
       "2024-03-27  19,732,209  15,418,346,943  785.00  785.00  779.00  779.00   \n",
       "2024-03-28  28,393,398  21,889,883,699  774.00  776.00  768.00  769.00   \n",
       "2024-03-29  20,212,820  15,682,908,766  769.00  781.00  768.00  779.00   \n",
       "\n",
       "              漲跌價差    成交筆數  \n",
       "日期                          \n",
       "2024-03-25   -5.00  24,794  \n",
       "2024-03-26   +2.00  35,046  \n",
       "2024-03-27   -3.00  21,006  \n",
       "2024-03-28  -10.00  39,848  \n",
       "2024-03-29  +10.00  18,110  "
      ]
     },
     "execution_count": 5,
     "metadata": {},
     "output_type": "execute_result"
    }
   ],
   "source": [
    "# 生成 36 個月份的日期列表\n",
    "date_list = generate_date_list('20210601', 36)\n",
    "stock_no = '2330'\n",
    "df_list = []\n",
    "\n",
    "for date in date_list:\n",
    "    df = fetch_data(date, stock_no)\n",
    "    df_list.append(df)\n",
    "\n",
    "# 將多個月份的資料合併，只使用前 35 個月資料\n",
    "df_twse = pd.concat(df_list[:-1])\n",
    "\n",
    "# 將日期轉換為西元年\n",
    "df_twse['日期'] = df_twse['日期'].apply(convert_minguo_to_ad)\n",
    "# 轉換為 datetime 格式並設置為索引\n",
    "df_twse['日期'] = pd.to_datetime(df_twse['日期'], format='%Y-%m-%d')\n",
    "df_twse.set_index('日期', inplace=True)\n",
    "\n",
    "df_twse.tail()"
   ]
  },
  {
   "cell_type": "markdown",
   "metadata": {},
   "source": [
    "### 修正表格部分欄位資料型態並轉換為數字型態"
   ]
  },
  {
   "cell_type": "code",
   "execution_count": 6,
   "metadata": {},
   "outputs": [],
   "source": [
    "df_twse['開盤價'] = pd.to_numeric(df_twse['開盤價'].str.replace(',', ''), errors='coerce')\n",
    "df_twse['收盤價'] = pd.to_numeric(df_twse['收盤價'].str.replace(',', ''), errors='coerce')\n",
    "df_twse['最高價'] = pd.to_numeric(df_twse['最高價'].str.replace(',', ''), errors='coerce')\n",
    "df_twse['最低價'] = pd.to_numeric(df_twse['最低價'].str.replace(',', ''), errors='coerce')"
   ]
  },
  {
   "cell_type": "markdown",
   "metadata": {},
   "source": [
    "### 1. 計算技術指標（SMA、RSI、MACD）"
   ]
  },
  {
   "cell_type": "code",
   "execution_count": 7,
   "metadata": {},
   "outputs": [],
   "source": [
    "# RSI 計算\n",
    "def calculate_rsi(series, period=14):\n",
    "    delta = series.diff(1)\n",
    "    gain = (delta.where(delta > 0, 0)).rolling(window=period).mean()\n",
    "    loss = (-delta.where(delta < 0, 0)).rolling(window=period).mean()\n",
    "    rs = gain / loss\n",
    "    return 100 - (100 / (1 + rs))"
   ]
  },
  {
   "cell_type": "code",
   "execution_count": 8,
   "metadata": {},
   "outputs": [
    {
     "data": {
      "text/html": [
       "<div>\n",
       "<style scoped>\n",
       "    .dataframe tbody tr th:only-of-type {\n",
       "        vertical-align: middle;\n",
       "    }\n",
       "\n",
       "    .dataframe tbody tr th {\n",
       "        vertical-align: top;\n",
       "    }\n",
       "\n",
       "    .dataframe thead th {\n",
       "        text-align: right;\n",
       "    }\n",
       "</style>\n",
       "<table border=\"1\" class=\"dataframe\">\n",
       "  <thead>\n",
       "    <tr style=\"text-align: right;\">\n",
       "      <th></th>\n",
       "      <th>成交股數</th>\n",
       "      <th>成交金額</th>\n",
       "      <th>開盤價</th>\n",
       "      <th>最高價</th>\n",
       "      <th>最低價</th>\n",
       "      <th>收盤價</th>\n",
       "      <th>漲跌價差</th>\n",
       "      <th>成交筆數</th>\n",
       "      <th>SMA_20</th>\n",
       "      <th>RSI_14</th>\n",
       "      <th>EMA12</th>\n",
       "      <th>EMA26</th>\n",
       "      <th>MACD</th>\n",
       "      <th>MACD_Signal</th>\n",
       "    </tr>\n",
       "    <tr>\n",
       "      <th>日期</th>\n",
       "      <th></th>\n",
       "      <th></th>\n",
       "      <th></th>\n",
       "      <th></th>\n",
       "      <th></th>\n",
       "      <th></th>\n",
       "      <th></th>\n",
       "      <th></th>\n",
       "      <th></th>\n",
       "      <th></th>\n",
       "      <th></th>\n",
       "      <th></th>\n",
       "      <th></th>\n",
       "      <th></th>\n",
       "    </tr>\n",
       "  </thead>\n",
       "  <tbody>\n",
       "    <tr>\n",
       "      <th>2024-03-25</th>\n",
       "      <td>21,223,414</td>\n",
       "      <td>16,612,693,369</td>\n",
       "      <td>783.0</td>\n",
       "      <td>788.0</td>\n",
       "      <td>779.0</td>\n",
       "      <td>780.0</td>\n",
       "      <td>-5.00</td>\n",
       "      <td>24,794</td>\n",
       "      <td>749.70</td>\n",
       "      <td>64.705882</td>\n",
       "      <td>765.083765</td>\n",
       "      <td>735.688622</td>\n",
       "      <td>29.395143</td>\n",
       "      <td>31.279271</td>\n",
       "    </tr>\n",
       "    <tr>\n",
       "      <th>2024-03-26</th>\n",
       "      <td>43,103,294</td>\n",
       "      <td>33,847,261,033</td>\n",
       "      <td>788.0</td>\n",
       "      <td>792.0</td>\n",
       "      <td>776.0</td>\n",
       "      <td>782.0</td>\n",
       "      <td>+2.00</td>\n",
       "      <td>35,046</td>\n",
       "      <td>753.90</td>\n",
       "      <td>64.071856</td>\n",
       "      <td>767.686263</td>\n",
       "      <td>739.119094</td>\n",
       "      <td>28.567169</td>\n",
       "      <td>30.736851</td>\n",
       "    </tr>\n",
       "    <tr>\n",
       "      <th>2024-03-27</th>\n",
       "      <td>19,732,209</td>\n",
       "      <td>15,418,346,943</td>\n",
       "      <td>785.0</td>\n",
       "      <td>785.0</td>\n",
       "      <td>779.0</td>\n",
       "      <td>779.0</td>\n",
       "      <td>-3.00</td>\n",
       "      <td>21,006</td>\n",
       "      <td>757.95</td>\n",
       "      <td>56.551724</td>\n",
       "      <td>769.426838</td>\n",
       "      <td>742.073235</td>\n",
       "      <td>27.353602</td>\n",
       "      <td>30.060201</td>\n",
       "    </tr>\n",
       "    <tr>\n",
       "      <th>2024-03-28</th>\n",
       "      <td>28,393,398</td>\n",
       "      <td>21,889,883,699</td>\n",
       "      <td>774.0</td>\n",
       "      <td>776.0</td>\n",
       "      <td>768.0</td>\n",
       "      <td>769.0</td>\n",
       "      <td>-10.00</td>\n",
       "      <td>39,848</td>\n",
       "      <td>761.90</td>\n",
       "      <td>44.274809</td>\n",
       "      <td>769.361170</td>\n",
       "      <td>744.067811</td>\n",
       "      <td>25.293360</td>\n",
       "      <td>29.106833</td>\n",
       "    </tr>\n",
       "    <tr>\n",
       "      <th>2024-03-29</th>\n",
       "      <td>20,212,820</td>\n",
       "      <td>15,682,908,766</td>\n",
       "      <td>769.0</td>\n",
       "      <td>781.0</td>\n",
       "      <td>768.0</td>\n",
       "      <td>779.0</td>\n",
       "      <td>+10.00</td>\n",
       "      <td>18,110</td>\n",
       "      <td>766.40</td>\n",
       "      <td>55.284553</td>\n",
       "      <td>770.844067</td>\n",
       "      <td>746.655380</td>\n",
       "      <td>24.188687</td>\n",
       "      <td>28.123204</td>\n",
       "    </tr>\n",
       "  </tbody>\n",
       "</table>\n",
       "</div>"
      ],
      "text/plain": [
       "                  成交股數            成交金額    開盤價    最高價    最低價    收盤價    漲跌價差  \\\n",
       "日期                                                                           \n",
       "2024-03-25  21,223,414  16,612,693,369  783.0  788.0  779.0  780.0   -5.00   \n",
       "2024-03-26  43,103,294  33,847,261,033  788.0  792.0  776.0  782.0   +2.00   \n",
       "2024-03-27  19,732,209  15,418,346,943  785.0  785.0  779.0  779.0   -3.00   \n",
       "2024-03-28  28,393,398  21,889,883,699  774.0  776.0  768.0  769.0  -10.00   \n",
       "2024-03-29  20,212,820  15,682,908,766  769.0  781.0  768.0  779.0  +10.00   \n",
       "\n",
       "              成交筆數  SMA_20     RSI_14       EMA12       EMA26       MACD  \\\n",
       "日期                                                                         \n",
       "2024-03-25  24,794  749.70  64.705882  765.083765  735.688622  29.395143   \n",
       "2024-03-26  35,046  753.90  64.071856  767.686263  739.119094  28.567169   \n",
       "2024-03-27  21,006  757.95  56.551724  769.426838  742.073235  27.353602   \n",
       "2024-03-28  39,848  761.90  44.274809  769.361170  744.067811  25.293360   \n",
       "2024-03-29  18,110  766.40  55.284553  770.844067  746.655380  24.188687   \n",
       "\n",
       "            MACD_Signal  \n",
       "日期                       \n",
       "2024-03-25    31.279271  \n",
       "2024-03-26    30.736851  \n",
       "2024-03-27    30.060201  \n",
       "2024-03-28    29.106833  \n",
       "2024-03-29    28.123204  "
      ]
     },
     "execution_count": 8,
     "metadata": {},
     "output_type": "execute_result"
    }
   ],
   "source": [
    "# 計算SMA (簡單移動平均)\n",
    "df_twse['SMA_20'] = df_twse['收盤價'].rolling(window=20).mean()\n",
    "\n",
    "# 計算 RSI\n",
    "df_twse['RSI_14'] = calculate_rsi(df_twse['收盤價'])\n",
    "\n",
    "# 計算MACD\n",
    "short_window = 12\n",
    "long_window = 26\n",
    "signal_window = 9\n",
    "df_twse['EMA12'] = df_twse['收盤價'].ewm(span=short_window, adjust=False).mean()\n",
    "df_twse['EMA26'] = df_twse['收盤價'].ewm(span=long_window, adjust=False).mean()\n",
    "df_twse['MACD'] = df_twse['EMA12'] - df_twse['EMA26']\n",
    "df_twse['MACD_Signal'] = df_twse['MACD'].ewm(span=signal_window, adjust=False).mean()\n",
    "df_twse.tail()"
   ]
  },
  {
   "cell_type": "code",
   "execution_count": 9,
   "metadata": {},
   "outputs": [],
   "source": [
    "# 將欄位名稱改為英文\n",
    "df_twse.rename(columns={'開盤價': 'Open', '最高價': 'High', '最低價': 'Low', '收盤價': 'Close', '成交筆數': 'Volume'}, inplace=True)\n",
    "# 移除有 NaN 值的列\n",
    "df_twse.dropna(subset=['Open', 'High', 'Low', 'Close', 'Volume'], inplace=True)\n",
    "df_twse['Volume'] = pd.to_numeric(df_twse['Volume'].str.replace(',', ''), errors='coerce')"
   ]
  },
  {
   "cell_type": "code",
   "execution_count": 10,
   "metadata": {},
   "outputs": [],
   "source": [
    "from sklearn.metrics import mean_squared_error\n",
    "from sklearn.model_selection import train_test_split\n",
    "import statsmodels.api as sm\n",
    "from sklearn.metrics import mean_absolute_percentage_error\n",
    "import numpy as np"
   ]
  },
  {
   "cell_type": "markdown",
   "metadata": {},
   "source": [
    "### 切分訓練與測試資料"
   ]
  },
  {
   "cell_type": "code",
   "execution_count": 11,
   "metadata": {},
   "outputs": [
    {
     "name": "stderr",
     "output_type": "stream",
     "text": [
      "C:\\Users\\marti\\AppData\\Local\\Temp\\ipykernel_5240\\926078494.py:9: SettingWithCopyWarning: \n",
      "A value is trying to be set on a copy of a slice from a DataFrame\n",
      "\n",
      "See the caveats in the documentation: https://pandas.pydata.org/pandas-docs/stable/user_guide/indexing.html#returning-a-view-versus-a-copy\n",
      "  df_twse['Future_Price'].iloc[-1] = first_price_of_36th_month\n"
     ]
    }
   ],
   "source": [
    "# 移除 NaN 值\n",
    "df_twse.dropna(subset=['SMA_20', 'RSI_14', 'MACD', 'MACD_Signal'], inplace=True)\n",
    "\n",
    "# 建立未來一天的股價作為目標變量\n",
    "df_twse['Future_Price'] = df_twse['Close'].shift(-1)\n",
    "# 使用第36個月的第一個資料填補最後一天空值\n",
    "df_36th_month = df_list[-1]\n",
    "first_price_of_36th_month = float(df_36th_month.iloc[0]['收盤價'].replace(',', ''))\n",
    "df_twse['Future_Price'].iloc[-1] = first_price_of_36th_month\n",
    "\n",
    "# 準備特徵和標籤\n",
    "X = df_twse[['SMA_20', 'RSI_14', 'MACD', 'MACD_Signal']]\n",
    "y = df_twse['Future_Price']\n",
    "\n",
    "# 分割資料為訓練集和測試集\n",
    "X_train, X_test, y_train, y_test = train_test_split(\n",
    "    X, y, test_size=0.2, random_state=42, shuffle=False  # 保留時間順序\n",
    ")"
   ]
  },
  {
   "cell_type": "code",
   "execution_count": 12,
   "metadata": {},
   "outputs": [
    {
     "name": "stderr",
     "output_type": "stream",
     "text": [
      "c:\\Users\\marti\\anaconda3\\lib\\site-packages\\statsmodels\\tsa\\base\\tsa_model.py:471: ValueWarning: A date index has been provided, but it has no associated frequency information and so will be ignored when e.g. forecasting.\n",
      "  self._init_dates(dates, freq)\n",
      "c:\\Users\\marti\\anaconda3\\lib\\site-packages\\statsmodels\\tsa\\base\\tsa_model.py:471: ValueWarning: A date index has been provided, but it is not monotonic and so will be ignored when e.g. forecasting.\n",
      "  self._init_dates(dates, freq)\n",
      "c:\\Users\\marti\\anaconda3\\lib\\site-packages\\statsmodels\\tsa\\base\\tsa_model.py:471: ValueWarning: A date index has been provided, but it has no associated frequency information and so will be ignored when e.g. forecasting.\n",
      "  self._init_dates(dates, freq)\n",
      "c:\\Users\\marti\\anaconda3\\lib\\site-packages\\statsmodels\\tsa\\base\\tsa_model.py:471: ValueWarning: A date index has been provided, but it is not monotonic and so will be ignored when e.g. forecasting.\n",
      "  self._init_dates(dates, freq)\n",
      "c:\\Users\\marti\\anaconda3\\lib\\site-packages\\statsmodels\\tsa\\base\\tsa_model.py:471: ValueWarning: A date index has been provided, but it has no associated frequency information and so will be ignored when e.g. forecasting.\n",
      "  self._init_dates(dates, freq)\n",
      "c:\\Users\\marti\\anaconda3\\lib\\site-packages\\statsmodels\\tsa\\base\\tsa_model.py:471: ValueWarning: A date index has been provided, but it is not monotonic and so will be ignored when e.g. forecasting.\n",
      "  self._init_dates(dates, freq)\n",
      "c:\\Users\\marti\\anaconda3\\lib\\site-packages\\statsmodels\\tsa\\base\\tsa_model.py:834: ValueWarning: No supported index is available. Prediction results will be given with an integer index beginning at `start`.\n",
      "  return get_prediction_index(\n"
     ]
    }
   ],
   "source": [
    "# 6. ARIMA 模型\n",
    "# 需要僅使用 y_train 來進行 ARIMA 模型訓練，因為 ARIMA 是單變量模型\n",
    "arima_order = (5, 0, 0)  # (p, d, q) 的預設值，可以根據需要調整\n",
    "arima_model = sm.tsa.arima.ARIMA(y_train, order=arima_order)\n",
    "arima_model_fit = arima_model.fit()\n",
    "y_pred_arima = arima_model_fit.forecast(steps=len(y_test))  # 使用測試集進行預測\n"
   ]
  },
  {
   "cell_type": "code",
   "execution_count": 13,
   "metadata": {},
   "outputs": [
    {
     "name": "stdout",
     "output_type": "stream",
     "text": [
      "0.9004376584914988\n"
     ]
    }
   ],
   "source": [
    "# 相對誤差計算\n",
    "mape_arima = mean_absolute_percentage_error(y_test, y_pred_arima)\n",
    "accuracy_arima = 1 - mape_arima\n",
    "print(accuracy_arima)"
   ]
  },
  {
   "cell_type": "code",
   "execution_count": 14,
   "metadata": {},
   "outputs": [],
   "source": [
    "dates = y_test.index  # 測試集對應的日期\n",
    "six_months_ago = dates.max() - pd.DateOffset(months=6)  # 六個月前的日期\n",
    "recent_six_months = dates[dates >= six_months_ago]  # 取出最近六個月的日期範圍\n",
    "# 取原始股價近六個月\n",
    "y_test_recent = y_test.loc[recent_six_months]\n",
    "y_test_recent = y_test_recent.sort_index()\n",
    "# 取預測股價近六個月\n",
    "y_pred_arima_series = pd.Series(np.array(y_pred_arima), index=y_test.index)\n",
    "y_pred_arima_recent = y_pred_arima_series.loc[recent_six_months]\n",
    "y_pred_arima_recent = y_pred_arima_recent.sort_index()"
   ]
  },
  {
   "cell_type": "code",
   "execution_count": 15,
   "metadata": {},
   "outputs": [
    {
     "data": {
      "image/png": "[encoded data removed]",
      "text/plain": [
       "<Figure size 1008x576 with 1 Axes>"
      ]
     },
     "metadata": {
      "needs_background": "light"
     },
     "output_type": "display_data"
    }
   ],
   "source": [
    "plt.figure(figsize=(14, 8))\n",
    "# 繪製實際股價曲線\n",
    "plt.plot(y_test_recent.index, y_test_recent, label='Actual Prices', color='black', alpha=0.7)\n",
    "# 繪製 ARIMA 預測結果\n",
    "plt.plot(y_pred_arima_recent.index, y_pred_arima_recent, label='Predicted Prices (ARIMA)', color='cyan', linestyle='--', alpha=0.8)\n",
    "# 設置中文字體\n",
    "plt.rcParams['font.family'] = 'Microsoft JhengHei'\n",
    "plt.rcParams['font.sans-serif'] = 'Microsoft JhengHei'\n",
    "\n",
    "# 添加圖例和標題\n",
    "plt.title('最近六個月實際股價與模型預測股價對比')\n",
    "plt.xlabel('日期')\n",
    "plt.ylabel('股價')\n",
    "plt.xticks(rotation=45)\n",
    "plt.legend()\n",
    "plt.tight_layout()\n",
    "\n",
    "# 保存圖表到 PNG 文件\n",
    "plt.savefig('stock_price_predictions_six_months_with_arima.png')\n",
    "\n",
    "# 顯示圖表\n",
    "plt.show()"
   ]
  }
 ],
 "metadata": {
  "kernelspec": {
   "display_name": "base",
   "language": "python",
   "name": "python3"
  },
  "language_info": {
   "codemirror_mode": {
    "name": "ipython",
    "version": 3
   },
   "file_extension": ".py",
   "mimetype": "text/x-python",
   "name": "python",
   "nbconvert_exporter": "python",
   "pygments_lexer": "ipython3",
   "version": "3.9.12"
  }
 },
 "nbformat": 4,
 "nbformat_minor": 2
}
