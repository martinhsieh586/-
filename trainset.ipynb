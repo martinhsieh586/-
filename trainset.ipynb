{
 "cells": [
  {
   "cell_type": "code",
   "execution_count": 98,
   "metadata": {},
   "outputs": [],
   "source": [
    "import yfinance as yf\n",
    "import mplfinance as mpf\n",
    "import matplotlib.pyplot as plt\n",
    "import os\n",
    "import pandas as pd"
   ]
  },
  {
   "cell_type": "code",
   "execution_count": 99,
   "metadata": {},
   "outputs": [],
   "source": [
    "# 股票代碼\n",
    "taiwan_stocks = [\"2330.TW\", \"2302.TW\", \"2049.TW\", \"2305.TW\", \"2454.TW\"]\n",
    "\n",
    "# 輸出資料夾\n",
    "output_dir = \"./train_data/\"\n",
    "output_img = \"./train_data/image/\"\n",
    "output_label = \"./train_data/label/\"\n",
    "os.makedirs(output_dir, exist_ok=True)\n",
    "os.makedirs(output_img, exist_ok=True)\n",
    "os.makedirs(output_label, exist_ok=True)\n",
    "\n",
    "# 過去十年資料，加上四天來計算五日移動平均\n",
    "start_date = \"2019-12-26\"  # 提前四天\n",
    "end_date = \"2024-01-01\"\n",
    "interval_days = 4  # 每5天截圖一次"
   ]
  },
  {
   "cell_type": "code",
   "execution_count": 100,
   "metadata": {},
   "outputs": [],
   "source": [
    "for stock_id in taiwan_stocks:\n",
    "    # 下載股票資料並移除缺失值\n",
    "    ticker = yf.Ticker(stock_id)\n",
    "    stock_data = ticker.history(start=start_date, end=end_date, interval=\"1d\")\n",
    "    stock_data = stock_data.apply(pd.to_numeric, errors='coerce').dropna().astype(float)\n",
    "\n",
    "    # 計算五日均線\n",
    "    stock_data['SMA_5'] = stock_data['Close'].rolling(window=5).mean()\n",
    "    \n",
    "    # 去除多出來的前四天資料，保留所需十年範圍\n",
    "    stock_data = stock_data.loc[\"2014-01-01\":]\n",
    "\n",
    "    # 遍歷每隔10天的資料\n",
    "    for i in range(0, len(stock_data), interval_days):\n",
    "        idx = stock_data.index[i]\n",
    "        plot_data = stock_data.loc[idx - pd.Timedelta(days=4):idx]  # 繪製該日期前的完整數據\n",
    "        \n",
    "\n",
    "        # 檢查是否有足夠的數據\n",
    "        if len(plot_data) < 5:  # 確保5天數據充足\n",
    "            continue\n",
    "\n",
    "        # 繪製 K 線圖，不顯示 SMA\n",
    "        fig, ax = mpf.plot(\n",
    "            plot_data,\n",
    "            type='candle',\n",
    "            style='charles',\n",
    "            ylabel=\"\",\n",
    "            volume=False,\n",
    "            xrotation=0,\n",
    "            returnfig=True\n",
    "        )\n",
    "        # 移除 X, Y 軸的刻度與標籤\n",
    "        ax[0].set_xticks([])\n",
    "        ax[0].set_yticks([])\n",
    "        ax[0].set_xlabel(\"\")\n",
    "        ax[0].set_ylabel(\"\")\n",
    "        ax[0].set_title(\"\")\n",
    "\n",
    "        # 儲存圖像\n",
    "        image_path = os.path.join(output_img, f\"{stock_id}_{idx.date()}.png\")\n",
    "        fig.savefig(image_path, dpi=100, bbox_inches='tight', pad_inches=0)\n",
    "        plt.close(fig)\n",
    "\n",
    "        # 計算趨勢標註\n",
    "        row = plot_data.iloc[-1]  # 取當前最後一天的數據\n",
    "        trend_label = 1 if row['Close'] > row['SMA_5'] else 0\n",
    "        label_name = f\"{stock_id}_{idx.date()}.txt\"\n",
    "        label_path = os.path.join(output_label, label_name)\n",
    "\n",
    "        # 儲存標註\n",
    "        with open(label_path, \"w\") as label_file:\n",
    "            label_file.write(str(trend_label))"
   ]
  }
 ],
 "metadata": {
  "kernelspec": {
   "display_name": "base",
   "language": "python",
   "name": "python3"
  },
  "language_info": {
   "codemirror_mode": {
    "name": "ipython",
    "version": 3
   },
   "file_extension": ".py",
   "mimetype": "text/x-python",
   "name": "python",
   "nbconvert_exporter": "python",
   "pygments_lexer": "ipython3",
   "version": "3.12.4"
  }
 },
 "nbformat": 4,
 "nbformat_minor": 2
}
